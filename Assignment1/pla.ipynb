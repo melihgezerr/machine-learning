{
 "cells": [
  {
   "cell_type": "code",
   "execution_count": null,
   "id": "77c31792",
   "metadata": {},
   "outputs": [],
   "source": [
    "import numpy as np\n",
    "import matplotlib.pyplot as plt\n",
    "import random\n",
    "\n",
    "data = np.array(np.load(\"PLA_data/data_small.npy\"))\n",
    "\n",
    "labels = np.array(np.load(\"PLA_data/label_small.npy\"))"
   ]
  },
  {
   "cell_type": "code",
   "execution_count": null,
   "id": "4e3b491f",
   "metadata": {},
   "outputs": [],
   "source": [
    "class Perceptron():\n",
    "\n",
    "    def __init__(self, data, labels):\n",
    "        self.weights = np.random.rand(data.shape[1])\n",
    "        self.misclassification_array = [True] * data.shape[0]\n",
    "        self.data = data\n",
    "        self.labels = labels\n",
    "  \n",
    "    def predict(self, data, labels):\n",
    "        for i in range(len(data)):\n",
    "            prediction = self.weights @ data[i] # @ for vector multiplication (ref : numpy doc)\n",
    "            if (prediction < 0 and labels[i] == 1) or (prediction > 0 and labels[i] == -1): # if misclassified -> update ms array\n",
    "                self.misclassification_array[i] = True\n",
    "            else:\n",
    "                self.misclassification_array[i] = False                                     # truly classified\n",
    "\n",
    "    def fit(self, data = data, labels = labels):\n",
    "        (n_sample, n_feature) = data.shape\n",
    "        i = 0\n",
    "        while True:\n",
    "            i += 1\n",
    "\n",
    "            self.predict(data,labels)\n",
    "\n",
    "            misclassified_indices = [index for index, value in enumerate(self.misclassification_array) if value == True]\n",
    "\n",
    "            print(f\"Iteration : {i}\\nnum of misclassification : {len(misclassified_indices)}\")\n",
    "\n",
    "            if len(misclassified_indices) == 0:                                                     # stop if there is no misclassified sample\n",
    "                print(f\"Learned weights : w0={self.weights[0]} w1={self.weights[1]} w2={self.weights[2]}\")\n",
    "                self.draw(iteration = i)\n",
    "                break\n",
    "\n",
    "            misclassified_sample = random.choice(misclassified_indices)                             # index of misclassified sample\n",
    "            self.weights = self.weights + labels[misclassified_sample] * data[misclassified_sample] # update weights\n",
    "\n",
    "    def draw(self, iteration, data = data, labels = labels):\n",
    "        plt.scatter(data[labels == 1, 1], data[labels == 1, 2], marker='o', label='Class 1', color='blue')\n",
    "        plt.scatter(data[labels == -1, 1], data[labels == -1, 2], marker='x', label='Class -1', color='red')\n",
    "\n",
    "        plt.xlabel('X-axis')\n",
    "        plt.ylabel('Y-axis')\n",
    "        #plt.legend()\n",
    "\n",
    "        #plt.xlim(-0.25, 1.25)\n",
    "        #plt.ylim(-0.25, 1.25)\n",
    "\n",
    "        #x_values = np.linspace(np.min(data[:, 1]), np.max(data[:, 1]), 100)\n",
    "        #plt.plot(x_values, self.decision_boundary(x_values), label='Decision Boundary', color='black')\n",
    "        a,b,c = self.weights[0], self.weights[1], self.weights[2]\n",
    "        x_line = np.linspace(np.min(data[:, 1]), np.max(data[:, 1]), 100)\n",
    "        y_line = (-a/c) + (-b/c) * x_line\n",
    "        plt.plot(x_line, y_line, label=f'{c}y = {b}x + {a}', color='black')\n",
    "        plt.title(f\"Decision boundary and data points for iteration : {iteration}\")\n",
    "        # Show the plot\n",
    "        plt.show()"
   ]
  },
  {
   "cell_type": "code",
   "execution_count": null,
   "id": "5832d153",
   "metadata": {},
   "outputs": [],
   "source": [
    "def main():\n",
    "    perceptron = Perceptron(data, labels)\n",
    "    perceptron.fit()\n",
    "\n",
    "if __name__ == \"__main__\":\n",
    "    main()"
   ]
  }
 ],
 "metadata": {
  "kernelspec": {
   "display_name": "Python 3 (ipykernel)",
   "language": "python",
   "name": "python3"
  },
  "language_info": {
   "codemirror_mode": {
    "name": "ipython",
    "version": 3
   },
   "file_extension": ".py",
   "mimetype": "text/x-python",
   "name": "python",
   "nbconvert_exporter": "python",
   "pygments_lexer": "ipython3",
   "version": "3.10.13"
  }
 },
 "nbformat": 4,
 "nbformat_minor": 5
}
