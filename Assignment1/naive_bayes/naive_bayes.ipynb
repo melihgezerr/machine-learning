{
 "cells": [
  {
   "cell_type": "code",
   "execution_count": 5,
   "id": "a8f1c9a8-7b34-4cb4-840a-dbc19dda8831",
   "metadata": {
    "scrolled": true
   },
   "outputs": [],
   "source": [
    "import numpy as np\n",
    "from sklearn.model_selection import train_test_split\n",
    "import matplotlib.pyplot as plt\n",
    "from sklearn.metrics import confusion_matrix, ConfusionMatrixDisplay\n",
    "import seaborn as sns\n",
    "\n",
    "# random seed is added to reproduce same results for sequential run (testing reasons)\n",
    "seed = 462  \n",
    "np.random.seed(seed)\n",
    "\n",
    "# load and shuffle data\n",
    "data_file = 'naive_bayes_data/wdbc.data'\n",
    "raw_data = np.genfromtxt(data_file, delimiter=',', dtype=None, encoding=None)\n",
    "np.random.shuffle(raw_data)\n",
    "\n",
    "# extract features and labels\n",
    "classes = np.array([-1 if row[1] == 'M' else 1 if row[1] == 'B' else None for row in raw_data]) # M : -1 , B : 1\n",
    "feature_matrix = np.array([list(row)[2:] for row in raw_data])\n",
    "\n",
    "# split the dataset into training and test set\n",
    "X_train, X_test, y_train, y_test = train_test_split(feature_matrix, classes, test_size=0.16, random_state=42)"
   ]
  },
  {
   "cell_type": "code",
   "execution_count": 6,
   "id": "6dba88c1",
   "metadata": {},
   "outputs": [],
   "source": [
    "# definition of classifier class\n",
    "\n",
    "class NaiveBayes:\n",
    "    def __init__(self):\n",
    "        self._classes = None\n",
    "        self._mean = None\n",
    "        self._var = None\n",
    "        self._priors = None\n",
    "\n",
    "    def fit(self, X, y):\n",
    "        n_samples, n_features = X.shape\n",
    "        self._classes = np.unique(y)\n",
    "        n_classes = len(self._classes)\n",
    "\n",
    "        # sample mean and sample variance for each attribute for each class (2 x 30)\n",
    "        self._mean = np.zeros((n_classes, n_features), dtype=np.float64)\n",
    "        self._var = np.zeros((n_classes, n_features), dtype=np.float64) \n",
    "        self._priors = np.zeros(n_classes, dtype=np.float64)\n",
    "\n",
    "        # calculate sample statistics\n",
    "        for idx, c in enumerate(self._classes):\n",
    "            X_c = X[y == c]\n",
    "            self._mean[idx, :] = X_c.mean(axis=0)\n",
    "            self._var[idx, :] = X_c.var(axis=0)\n",
    "            self._priors[idx] = X_c.shape[0] / float(n_samples)\n",
    "\n",
    "    # returns predicted labels as a vector\n",
    "    def predict(self, X):\n",
    "        y_pred = [self._predict_sample(x) for x in X]\n",
    "        return np.array(y_pred)\n",
    "\n",
    "    # given each row predict the label using naive assumption \n",
    "    def _predict_sample(self, x):\n",
    "        posteriors = []\n",
    "        \n",
    "        for idx, c in enumerate(self._classes):\n",
    "            prior = self._priors[idx]\n",
    "            posterior = np.prod(self._pdf(idx, x) + 1e-9)   # 10^-9 to avoid zeros (or very small values from pdf result)\n",
    "            posterior = posterior * prior\n",
    "            posteriors.append(posterior)\n",
    "            \n",
    "        return self._classes[np.argmax(posteriors)]\n",
    "    \n",
    "    \"\"\"\n",
    "    Use below version if multiplication of probabilities is not applicable for provided dataset \n",
    "    (not the case for provided dataset of this assignment)\n",
    "\n",
    "    * Taking the sum of log probabilities is numerically stable compared to directly multiplying small probabilities.\n",
    "\n",
    "    def _predict_sample(self, x):\n",
    "        posteriors = []\n",
    "        \n",
    "        for idx, c in enumerate(self._classes):\n",
    "            prior = np.log(self._priors[idx])\n",
    "            posterior = np.sum(np.log(self._pdf(idx, x) + 1e-9))\n",
    "            posterior = posterior + prior\n",
    "            posteriors.append(posterior)\n",
    "            \n",
    "        return self._classes[np.argmax(posteriors)]\n",
    "    \"\"\"\n",
    "    # assuming each sample is drawn from a normal distribution, calculate pdf value for each attribute for each sample\n",
    "    def _pdf(self, class_idx, x):\n",
    "        mean = self._mean[class_idx]\n",
    "        var = self._var[class_idx]\n",
    "        return (np.exp(-((x - mean) ** 2) / (2 * var))) / (np.sqrt(2 * np.pi * var))"
   ]
  },
  {
   "cell_type": "code",
   "execution_count": 7,
   "id": "a328e331-c44c-4598-b5d4-dea69c924cfc",
   "metadata": {},
   "outputs": [
    {
     "name": "stdout",
     "output_type": "stream",
     "text": [
      "Accuracy is 0.9021739130434783\n",
      "\n",
      "Confusion Matrix :\n"
     ]
    },
    {
     "data": {
      "image/png": "[encoded data removed]",
      "text/plain": [
       "<Figure size 640x480 with 2 Axes>"
      ]
     },
     "metadata": {},
     "output_type": "display_data"
    }
   ],
   "source": [
    "def main():\n",
    "    def accuracy(y_true, y_pred):\n",
    "        accuracy = np.sum(y_true == y_pred) / len(y_true)\n",
    "        return accuracy\n",
    "\n",
    "    nb = NaiveBayes()\n",
    "    nb.fit(X_train, y_train)\n",
    "    predictions = nb.predict(X_test)\n",
    "    print(\"Accuracy is\", accuracy(y_test, predictions))\n",
    "    #print(nb._classes)\n",
    "    #print(y_test)\n",
    "    #print(predictions)\n",
    "    #print(np.count_nonzero(y_test == 1))\n",
    "\n",
    "    # created a confusion matrix to enhance the visualization of the result\n",
    "    cm = confusion_matrix(y_test, predictions, labels=nb._classes)\n",
    "    cm_disp = ConfusionMatrixDisplay(confusion_matrix = cm, display_labels=['M', 'B'])\n",
    "    cm_disp.plot()\n",
    "    print(\"\\nConfusion Matrix :\")\n",
    "if __name__ == \"__main__\":\n",
    "    main()"
   ]
  }
 ],
 "metadata": {
  "kernelspec": {
   "display_name": "Python 3 (ipykernel)",
   "language": "python",
   "name": "python3"
  },
  "language_info": {
   "codemirror_mode": {
    "name": "ipython",
    "version": 3
   },
   "file_extension": ".py",
   "mimetype": "text/x-python",
   "name": "python",
   "nbconvert_exporter": "python",
   "pygments_lexer": "ipython3",
   "version": "3.12.1"
  }
 },
 "nbformat": 4,
 "nbformat_minor": 5
}
