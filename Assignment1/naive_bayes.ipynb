{
 "cells": [
  {
   "cell_type": "code",
   "execution_count": 74,
   "id": "a8f1c9a8-7b34-4cb4-840a-dbc19dda8831",
   "metadata": {
    "scrolled": true
   },
   "outputs": [],
   "source": [
    "import numpy as np\n",
    "from sklearn.model_selection import train_test_split\n",
    "import matplotlib.pyplot as plt\n",
    "from sklearn.metrics import confusion_matrix, ConfusionMatrixDisplay\n",
    "import seaborn as sns\n",
    "\n",
    "data_file = 'naive_bayes_data/wdbc.data'\n",
    "raw_data = np.genfromtxt(data_file, delimiter=',', dtype=None, encoding=None)\n",
    "np.random.shuffle(raw_data)\n",
    "classes = np.array([-1 if row[1] == 'M' else 1 if row[1] == 'B' else None for row in raw_data])\n",
    "feature_matrix = np.array([list(row)[2:] for row in raw_data])\n",
    "X_train, X_test, y_train, y_test = train_test_split(feature_matrix, classes, test_size=0.16, random_state=42)\n",
    "\n",
    "#print(len(X_train))\n",
    "#print(len(X_test))\n",
    "\n",
    "class NaiveBayes:\n",
    "\n",
    "    def __init__(self):\n",
    "        self._classes = None\n",
    "        self._mean = None\n",
    "        self._var = None\n",
    "        self._priors = None\n",
    "\n",
    "    def fit(self, X, y):\n",
    "        n_samples, n_features = X.shape\n",
    "        self._classes = np.unique(y)\n",
    "        n_classes = len(self._classes)\n",
    "\n",
    "        \n",
    "        self._mean = np.zeros((n_classes, n_features), dtype=np.float64)\n",
    "        self._var = np.zeros((n_classes, n_features), dtype=np.float64)\n",
    "        self._priors = np.zeros(n_classes, dtype=np.float64)\n",
    "\n",
    "        for idx, c in enumerate(self._classes):\n",
    "            X_c = X[y == c]\n",
    "            self._mean[idx, :] = X_c.mean(axis=0)\n",
    "            self._var[idx, :] = X_c.var(axis=0)\n",
    "            self._priors[idx] = X_c.shape[0] / float(n_samples)\n",
    "\n",
    "    def predict(self, X):\n",
    "        y_pred = [self._predict_sample(x) for x in X]\n",
    "        return np.array(y_pred)\n",
    "\n",
    "\n",
    "    def _predict_sample(self, x):\n",
    "        posteriors = []\n",
    "        \n",
    "        for idx, c in enumerate(self._classes):\n",
    "            prior = np.log(self._priors[idx])\n",
    "            posterior = np.sum(np.log(self._pdf(idx, x) + 1e-9))\n",
    "            posterior = posterior + prior\n",
    "            posteriors.append(posterior)\n",
    "            \n",
    "        return self._classes[np.argmax(posteriors)]\n",
    "\n",
    "    def _pdf(self, class_idx, x):\n",
    "        mean = self._mean[class_idx]\n",
    "        var = self._var[class_idx]\n",
    "        return (np.exp(-((x - mean) ** 2) / (2 * var))) / (np.sqrt(2 * np.pi * var))\n",
    "\n",
    "    "
   ]
  },
  {
   "cell_type": "code",
   "execution_count": 75,
   "id": "a328e331-c44c-4598-b5d4-dea69c924cfc",
   "metadata": {},
   "outputs": [
    {
     "name": "stdout",
     "output_type": "stream",
     "text": [
      "Accuracy is 0.9565217391304348\n",
      "[-1  1]\n",
      "[ 1 -1 -1  1 -1  1 -1  1  1  1  1  1  1  1 -1 -1  1 -1  1 -1 -1 -1  1 -1\n",
      "  1 -1  1 -1  1  1 -1  1  1  1 -1 -1 -1 -1  1 -1  1  1  1  1  1  1  1  1\n",
      "  1 -1  1  1 -1  1  1 -1 -1  1 -1  1  1 -1 -1  1  1  1  1  1  1 -1 -1 -1\n",
      " -1 -1 -1 -1 -1  1  1 -1  1  1  1  1 -1  1  1  1  1  1  1  1]\n",
      "[ 1 -1 -1  1 -1  1 -1  1  1  1  1  1  1  1 -1 -1  1 -1  1 -1 -1 -1  1 -1\n",
      "  1 -1  1 -1  1  1 -1  1  1  1 -1 -1 -1 -1  1 -1  1  1  1  1  1 -1  1  1\n",
      "  1 -1  1  1  1  1  1 -1 -1  1 -1  1  1 -1 -1  1  1  1  1  1  1 -1 -1  1\n",
      " -1 -1 -1 -1 -1  1  1 -1  1  1  1  1 -1  1  1  1  1 -1  1  1]\n",
      "56\n",
      "[[34  2]\n",
      " [ 2 54]]\n"
     ]
    },
    {
     "data": {
      "image/png": "[encoded data removed]",
      "text/plain": [
       "<Figure size 640x480 with 2 Axes>"
      ]
     },
     "metadata": {},
     "output_type": "display_data"
    }
   ],
   "source": [
    "def main():\n",
    "    def accuracy(y_true, y_pred):\n",
    "        accuracy = np.sum(y_true == y_pred) / len(y_true)\n",
    "        return accuracy\n",
    "\n",
    "    nb = NaiveBayes()\n",
    "    nb.fit(X_train, y_train)\n",
    "    predictions = nb.predict(X_test)\n",
    "    print(\"Accuracy is\", accuracy(y_test, predictions))\n",
    "    print(nb._classes)\n",
    "    print(y_test)\n",
    "    print(predictions)\n",
    "    print(np.count_nonzero(y_test == 1))\n",
    "\n",
    "    cm = confusion_matrix(y_test, predictions, labels=nb._classes)\n",
    "    cm_disp = ConfusionMatrixDisplay(confusion_matrix = cm, display_labels=['M', 'B'])\n",
    "    cm_disp.plot()\n",
    "    print(cm)\n",
    "if __name__ == \"__main__\":\n",
    "    main()"
   ]
  },
  {
   "cell_type": "code",
   "execution_count": null,
   "id": "6d2129d2-4dbb-4cde-9b94-b7ea7d43a7ac",
   "metadata": {},
   "outputs": [],
   "source": []
  }
 ],
 "metadata": {
  "kernelspec": {
   "display_name": "Python 3 (ipykernel)",
   "language": "python",
   "name": "python3"
  },
  "language_info": {
   "codemirror_mode": {
    "name": "ipython",
    "version": 3
   },
   "file_extension": ".py",
   "mimetype": "text/x-python",
   "name": "python",
   "nbconvert_exporter": "python",
   "pygments_lexer": "ipython3",
   "version": "3.11.7"
  }
 },
 "nbformat": 4,
 "nbformat_minor": 5
}
