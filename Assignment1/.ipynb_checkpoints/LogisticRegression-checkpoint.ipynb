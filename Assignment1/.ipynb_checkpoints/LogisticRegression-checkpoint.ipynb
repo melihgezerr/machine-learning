{
 "cells": [
  {
   "cell_type": "code",
   "execution_count": 50,
   "id": "b2a64b2d-3350-4d72-9aa8-cb13c4418b4f",
   "metadata": {},
   "outputs": [],
   "source": [
    "from scipy.io import arff\n",
    "import pandas as pd\n",
    "from sklearn.preprocessing import MinMaxScaler\n",
    "from sklearn.model_selection import train_test_split\n",
    "import numpy as np\n",
    "\n",
    "arff_file_path = './Rice_Cammeo_Osmancik.arff'\n",
    "\n",
    "data, meta = arff.loadarff(arff_file_path)\n",
    "\n",
    "df = pd.DataFrame(data)\n",
    "\n",
    "df = df.sample(frac=1).reset_index(drop=True)\n",
    "\n",
    "scaler = MinMaxScaler()\n",
    "\n",
    "column_to_be_normalized = ['Area', 'Perimeter','Major_Axis_Length','Minor_Axis_Length','Convex_Area']\n",
    "\n",
    "scaler.fit(df[column_to_be_normalized])\n",
    "\n",
    "df[column_to_be_normalized] = scaler.transform(df[column_to_be_normalized])\n",
    "\n",
    "features = df.drop(\"Class\", axis=1)\n",
    "label = df[\"Class\"]\n",
    "\n",
    "\n",
    "X_train, X_test, y_train, y_test = train_test_split(features, label, test_size=0.16, random_state=42)\n",
    "\n",
    "\n",
    "class LogisticRegression:\n",
    "    def __init__(self, data, labels,learning_rate):\n",
    "        self.weights = np.random.rand(data.shape[1])\n",
    "        self.data = data\n",
    "        self.labels = labels\n",
    "        self.learning_rate = learning_rate\n",
    "        self.N = len(data)\n",
    "        self.threshold = 0.004\n",
    "\n",
    "    def fit(self):\n",
    "        prev_weights = None\n",
    "        while not self.termination_condition(self.weights,prev_weights):\n",
    "            prev_weights = self.weights\n",
    "            print(str(self.calculate_error(prev_weights)))\n",
    "            self.predict()\n",
    "            \n",
    "        \n",
    "    def calculate_error(self,weights):\n",
    "        sum = 0\n",
    "        for i in range(self.N):\n",
    "            sum = sum + np.log(1 + np.exp(-self.labels[i]*(self.weights @ self.data[i])))\n",
    "        sum =  (1/self.N)*sum\n",
    "        return sum\n",
    "\n",
    "        \n",
    "    def termination_condition(self,curr_weights, prev_weights = None):\n",
    "           print(self.calculate_error(curr_weights))\n",
    "           print(self.calculate_error(prev_weights))\n",
    "           if (prev_weights is not None) and abs(self.calculate_error(curr_weights) - self.calculate_error(prev_weights))<self.threshold:\n",
    "                return True\n",
    "           return False\n",
    "           \n",
    "           \n",
    "    def predict(self):\n",
    "        gradient = 0\n",
    "        for i in range(self.N):\n",
    "            gradient = gradient + (self.labels[i]*self.data[i])/(1 + np.exp(self.labels[i]*(self.weights @ self.data[i])))\n",
    "        gradient =  (-1/self.N)*gradient\n",
    "        direction = -gradient\n",
    "        self.weights = self.weights + self.learning_rate*direction"
   ]
  },
  {
   "cell_type": "code",
   "execution_count": 51,
   "id": "9fc01248-5c39-47cc-b0b6-0981fc2b10b5",
   "metadata": {},
   "outputs": [
    {
     "name": "stdout",
     "output_type": "stream",
     "text": [
      "1.4487972451138125\n",
      "[-0.22545718 -0.26427697 -0.25094942 -0.2279002  -0.32812063 -0.23069746\n",
      " -0.23530725]\n"
     ]
    }
   ],
   "source": [
    "def main():\n",
    "    tranformed_y_train = [-1 if x == b'Cammeo' else 1 for x in y_train.values]\n",
    "    logistic_regression = LogisticRegression(X_train.values, tranformed_y_train, 0.0004)\n",
    "    logistic_regression.fit()\n",
    "\n",
    "if __name__ == \"__main__\":\n",
    "    main()"
   ]
  }
 ],
 "metadata": {
  "kernelspec": {
   "display_name": "Python 3 (ipykernel)",
   "language": "python",
   "name": "python3"
  },
  "language_info": {
   "codemirror_mode": {
    "name": "ipython",
    "version": 3
   },
   "file_extension": ".py",
   "mimetype": "text/x-python",
   "name": "python",
   "nbconvert_exporter": "python",
   "pygments_lexer": "ipython3",
   "version": "3.10.13"
  }
 },
 "nbformat": 4,
 "nbformat_minor": 5
}
